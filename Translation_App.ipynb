{
 "cells": [
  {
   "cell_type": "markdown",
   "id": "ae8e4163",
   "metadata": {},
   "source": [
    "# Simple Translation App\n",
    ">This is a simple real time translation app that was built using PyTorch, Gradio and Huggingface transformer to create a wonder and easy to use web app"
   ]
  },
  {
   "cell_type": "markdown",
   "id": "bf0cb6bd",
   "metadata": {},
   "source": [
    "## Dependencies"
   ]
  },
  {
   "cell_type": "code",
   "execution_count": null,
   "id": "67cffcc4",
   "metadata": {},
   "outputs": [],
   "source": [
    "# installing PyTorch\n",
    "!pip install torch==1.8.2+cpu torchvision==0.9.2+cpu torchaudio===0.8.2 -f https://download.pytorch.org/whl/lts/1.8/torch_lts.html "
   ]
  },
  {
   "cell_type": "code",
   "execution_count": null,
   "id": "f79f9514",
   "metadata": {},
   "outputs": [],
   "source": [
    "# installing  huggingface transformers, gradio and ipywidgets\n",
    "!pip install transformers  \n",
    "!pip install ipywidgets \n",
    "!pip install gradio "
   ]
  },
  {
   "cell_type": "code",
   "execution_count": null,
   "id": "be8e7619",
   "metadata": {},
   "outputs": [],
   "source": [
    "#import gradio for UI interface\n",
    "import gradio as gradio\n",
    "\n",
    "#import the pipeline form transformers\n",
    "from transformers import pipeline "
   ]
  },
  {
   "cell_type": "markdown",
   "id": "40fe9e20",
   "metadata": {},
   "source": [
    "## Pipeline"
   ]
  },
  {
   "cell_type": "code",
   "execution_count": null,
   "id": "337f2a18",
   "metadata": {},
   "outputs": [],
   "source": [
    "# loading the translation pipeline from huggingface transformers witht the particular language we are interested in translation to and from\n",
    "# in this case, eng to fr\n",
    "\n",
    "translator=pipeline(\"translation_en_to_fr\")"
   ]
  },
  {
   "cell_type": "code",
   "execution_count": null,
   "id": "5e941dee",
   "metadata": {},
   "outputs": [],
   "source": [
    "# testing it to see what it returns\n",
    "result=translator('One Piece is the best anime')\n",
    "result"
   ]
  },
  {
   "cell_type": "code",
   "execution_count": null,
   "id": "c093e816",
   "metadata": {},
   "outputs": [],
   "source": [
    "# getting the text by itself\n",
    "result[0]['translation_text']"
   ]
  },
  {
   "cell_type": "markdown",
   "id": "502f4321",
   "metadata": {},
   "source": [
    "## Interface"
   ]
  },
  {
   "cell_type": "code",
   "execution_count": null,
   "id": "384aaf8f",
   "metadata": {},
   "outputs": [],
   "source": [
    "# building the translate function that accepts a from text and reutrns the translation from that specific pipeline \n",
    "def translate_text (eng_text):\n",
    "    result=translator(eng_text)\n",
    "    return result[0]['translation_text']"
   ]
  },
  {
   "cell_type": "code",
   "execution_count": null,
   "id": "5898fc2c",
   "metadata": {},
   "outputs": [],
   "source": [
    "# testing the function\n",
    "translate_text('My name is Luffy')"
   ]
  },
  {
   "cell_type": "code",
   "execution_count": null,
   "id": "35eff30a",
   "metadata": {},
   "outputs": [],
   "source": [
    "# creating a simple gradio interafce using the tutorial posted on https://gradio.app/docs/#i_textbox\n",
    "\n",
    "iface = gradio.Interface(fn=translate_text, inputs=gradio.inputs.Textbox(lines=3, placeholder='English text to translate'),\n",
    "                        outputs='text')\n",
    "\n",
    "#settig share=True so that a temp public domain can be generated\n",
    "iface.launch(share=True)"
   ]
  },
  {
   "cell_type": "code",
   "execution_count": null,
   "id": "403083de",
   "metadata": {},
   "outputs": [],
   "source": []
  }
 ],
 "metadata": {
  "kernelspec": {
   "display_name": "Python 3",
   "language": "python",
   "name": "python3"
  },
  "language_info": {
   "codemirror_mode": {
    "name": "ipython",
    "version": 3
   },
   "file_extension": ".py",
   "mimetype": "text/x-python",
   "name": "python",
   "nbconvert_exporter": "python",
   "pygments_lexer": "ipython3",
   "version": "3.9.5"
  }
 },
 "nbformat": 4,
 "nbformat_minor": 5
}
